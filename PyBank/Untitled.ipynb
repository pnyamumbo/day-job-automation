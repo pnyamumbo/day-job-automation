{
 "cells": [
  {
   "cell_type": "code",
   "execution_count": null,
   "id": "afeaad19-a92c-4046-8c09-56267a812be1",
   "metadata": {},
   "outputs": [],
   "source": [
    " Importing the pathlib and csv library\n",
    "\n",
    "import csv\n",
    "from pathlib import Path\n",
    "\n",
    "\n",
    "# Path to collect budget_data.csv file data from terminal\n",
    "\n",
    "budget_data = Path('/Users/pnyam/fintech/day-job-automation/PyBank/Resources/budget_data.csv')\n"
   ]
  }
 ],
 "metadata": {
  "kernelspec": {
   "display_name": "Python 3",
   "language": "python",
   "name": "python3"
  },
  "language_info": {
   "codemirror_mode": {
    "name": "ipython",
    "version": 3
   },
   "file_extension": ".py",
   "mimetype": "text/x-python",
   "name": "python",
   "nbconvert_exporter": "python",
   "pygments_lexer": "ipython3",
   "version": "3.8.8"
  }
 },
 "nbformat": 4,
 "nbformat_minor": 5
}
