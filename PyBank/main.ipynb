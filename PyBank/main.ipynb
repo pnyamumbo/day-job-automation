{
 "cells": [
  {
   "cell_type": "code",
   "execution_count": 3,
   "id": "1eac0532-1623-4ef4-8e1c-0d767a116827",
   "metadata": {},
   "outputs": [
    {
     "name": "stdout",
     "output_type": "stream",
     "text": [
      "\n",
      "Financial Analysis\n",
      "----------------------------\n",
      "Total Months: 86\n",
      "Total Amount: $38382578\n",
      "Average Change: $7803.476744186047\n",
      "Greatest Increase in Profits: Feb-2012 ($1926159)\n",
      "Greatest Decrease in Profits: Sep-2013 ($-2196167)\n",
      "\n"
     ]
    }
   ],
   "source": [
    "import csv\n",
    "from pathlib import Path\n",
    "\n",
    "\n",
    "# Path to collect budget_data.csv file data from terminal\n",
    "\n",
    "budget_data = Path('/Users/pnyam/fintech/day-job-automation/PyBank/Resources/budget_data.csv')\n",
    "\n",
    "# Set variables for each value and set equal to zero (0)\n",
    "total_months = 0\n",
    "total_amount = 0\n",
    "profit = 0\n",
    "\n",
    "# Create lists for calculations\n",
    "months = []\n",
    "profit_change_list = []\n",
    "greatest_decrease = [\"\", 99999999999]\n",
    "greatest_increase = [\"\", 0]\n",
    "\n",
    "# Read CSV file\n",
    "with open(budget_data) as revenue_data:\n",
    "    reader = csv.DictReader(revenue_data)\n",
    "    \n",
    "    # Calculations\n",
    "    for row in reader:\n",
    "        total_months = total_months + 1\n",
    "        total_amount = total_amount + int(row[\"Profit/Losses\"])\n",
    "        \n",
    "        prof_change = int(row[\"Profit/Losses\"]) - profit\n",
    "        profit = int(row[\"Profit/Losses\"])\n",
    "        \n",
    "        profit_change_list = profit_change_list + [prof_change]\n",
    "        months = months + [row[\"Date\"]]\n",
    "        \n",
    "        # Calculate greatest increase\n",
    "        if (prof_change > greatest_increase[1]):\n",
    "            greatest_increase[1] = prof_change\n",
    "            greatest_increase[0] = row[\"Date\"]\n",
    "            \n",
    "        # Calculate greatest decrese\n",
    "        if (prof_change < greatest_decrease[1]):\n",
    "            greatest_decrease[1] = prof_change\n",
    "            greatest_decrease[0] = row[\"Date\"]\n",
    "            \n",
    "# Calculate profit average change\n",
    "\n",
    "avg_change = sum(profit_change_list) / len(profit_change_list)\n",
    "\n",
    "# Create output for print on Summary Table and export as txt file\n",
    "output = (\n",
    "    f\"\\nFinancial Analysis\\n\"\n",
    "    f\"----------------------------\\n\"\n",
    "    f\"Total Months: {total_months}\\n\"\n",
    "    f\"Total Amount: ${total_amount}\\n\"\n",
    "    f\"Average Change: ${avg_change}\\n\"\n",
    "    f\"Greatest Increase in Profits: {grts_incr[0]} (${grts_incr[1]})\\n\"\n",
    "    f\"Greatest Decrease in Profits: {grts_decr[0]} (${grts_decr[1]})\\n\")\n",
    " \n",
    "print(output)\n",
    "\n",
    "text_path = os.path.join(\"Resources\", \"data_output.txt\")\n",
    "with open(text_path, \"w\") as text_file:\n",
    "            text_file.write(output)"
   ]
  },
  {
   "cell_type": "code",
   "execution_count": null,
   "id": "5db03c38-04c9-4042-a540-84422741c1b8",
   "metadata": {},
   "outputs": [],
   "source": []
  },
  {
   "cell_type": "code",
   "execution_count": null,
   "id": "94e7d809-6c74-41a6-9409-69c8b3652696",
   "metadata": {},
   "outputs": [],
   "source": []
  }
 ],
 "metadata": {
  "kernelspec": {
   "display_name": "Python 3",
   "language": "python",
   "name": "python3"
  },
  "language_info": {
   "codemirror_mode": {
    "name": "ipython",
    "version": 3
   },
   "file_extension": ".py",
   "mimetype": "text/x-python",
   "name": "python",
   "nbconvert_exporter": "python",
   "pygments_lexer": "ipython3",
   "version": "3.8.8"
  }
 },
 "nbformat": 4,
 "nbformat_minor": 5
}
